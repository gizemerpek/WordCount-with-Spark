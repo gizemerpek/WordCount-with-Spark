{
 "cells": [
  {
   "cell_type": "code",
   "execution_count": 1,
   "id": "67b07f42-52f7-42d9-af9e-2e22c39deeb9",
   "metadata": {},
   "outputs": [],
   "source": [
    "%config IPCompleter.greedy=True\n",
    "import findspark\n",
    "findspark.init()\n",
    "from pyspark import SparkConf\n",
    "from pyspark import SparkContext\n",
    "import time"
   ]
  },
  {
   "cell_type": "code",
   "execution_count": 2,
   "id": "be8822ca-c6cc-4b97-a62a-3e01a2c5bb9e",
   "metadata": {},
   "outputs": [],
   "source": [
    "conf=SparkConf().setMaster(\"local[*]\").setAppName(\"ElectronicProductsRecommendationSystem\")\n",
    "sc = SparkContext.getOrCreate(conf=conf) "
   ]
  },
  {
   "cell_type": "code",
   "execution_count": 4,
   "id": "5a92d48d-6d14-4f70-af44-b47c9fec271c",
   "metadata": {},
   "outputs": [
    {
     "data": {
      "text/plain": [
       "96000001"
      ]
     },
     "execution_count": 4,
     "metadata": {},
     "output_type": "execute_result"
    }
   ],
   "source": [
    "dosya_yolu = \"file:///C:/Users/HP/Documents/mergedfile.txt\"\n",
    "rdd = sc.textFile(dosya_yolu)\n",
    "rdd.count()"
   ]
  },
  {
   "cell_type": "code",
   "execution_count": 7,
   "id": "c9792595-3d02-4fe2-b570-50196269aeca",
   "metadata": {},
   "outputs": [
    {
     "name": "stdout",
     "output_type": "stream",
     "text": [
      "Number of lines after normalization: 96000000\n",
      "Top 10 words:\n",
      "the: 131545248\n",
      "of: 57200160\n",
      "to: 54364608\n",
      "a: 48745728\n",
      "in: 45462432\n",
      "and: 43053024\n",
      "said: 20726112\n",
      "for: 20616864\n",
      "that: 19393632\n",
      "is: 16872480\n",
      "Execution time: 1998.3753299713135 seconds\n"
     ]
    }
   ],
   "source": [
    "start_time = time.time()\n",
    "\n",
    "import re\n",
    "\n",
    "# Function to normalize a single line of text\n",
    "def normalize_text(text):\n",
    "    # Convert to lowercase\n",
    "    text = text.lower()\n",
    "    # Remove punctuations and digits using regex\n",
    "    text = re.sub(r'[^a-zA-Z\\s]', '', text)\n",
    "    # Remove leading and trailing whitespaces\n",
    "    lines =text.split('\\n')\n",
    "    lines = [line.strip() for line in lines if line.strip()]\n",
    "    return lines\n",
    "\n",
    "# Apply normalization to each line of the RDD\n",
    "normalized_rdd = rdd.flatMap(normalize_text)\n",
    "\n",
    "line_count= normalized_rdd.count()\n",
    "\n",
    "# Count the number of lines after normalization\n",
    "print(\"Number of lines after normalization:\", line_count)\n",
    "\n",
    "\n",
    "\n",
    "# Split each line into words and count the occurrences of each word\n",
    "words_count_rdd = normalized_rdd.flatMap(lambda line: line.split()) \\\n",
    "                                 .map(lambda word: (word, 1))\n",
    "\n",
    "word_counts=words_count_rdd.reduceByKey(lambda x, y: x + y)\n",
    "\n",
    "# Sort the result by value in descending order\n",
    "sorted_word_counts = word_counts.sortBy(lambda x: x[1], ascending=False)\n",
    "\n",
    "top_10_words =sorted_word_counts.take(10)\n",
    "print(\"Top 10 words:\")\n",
    "for word, count in top_10_words:\n",
    "    print(f\"{word}: {count}\")\n",
    "# Save the first 10 key-value pairs as a text file\n",
    "output_directory =  r\"file:///C:/Users/HP/Documents/output_12GB\"\n",
    "top_10_rdd=sc.parallelize(top_10_words)\n",
    "top_10_rdd.saveAsTextFile(output_directory)\n",
    "\n",
    "\n",
    "end_time = time.time()\n",
    "\n",
    "# Calculate execution time\n",
    "execution_time = end_time - start_time\n",
    "\n",
    "# Print the execution time\n",
    "print(\"Execution time:\", execution_time, \"seconds\")  "
   ]
  },
  {
   "cell_type": "code",
   "execution_count": null,
   "id": "92c3a3fc-c301-4c15-8463-d4808ae090c0",
   "metadata": {},
   "outputs": [],
   "source": []
  }
 ],
 "metadata": {
  "kernelspec": {
   "display_name": "Python 3 (ipykernel)",
   "language": "python",
   "name": "python3"
  },
  "language_info": {
   "codemirror_mode": {
    "name": "ipython",
    "version": 3
   },
   "file_extension": ".py",
   "mimetype": "text/x-python",
   "name": "python",
   "nbconvert_exporter": "python",
   "pygments_lexer": "ipython3",
   "version": "3.8.10"
  }
 },
 "nbformat": 4,
 "nbformat_minor": 5
}
